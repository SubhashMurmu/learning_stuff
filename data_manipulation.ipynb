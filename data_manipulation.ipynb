{
  "nbformat": 4,
  "nbformat_minor": 0,
  "metadata": {
    "colab": {
      "provenance": [],
      "authorship_tag": "ABX9TyOjUxdrUwIa1wO0OnWGR5cn",
      "include_colab_link": true
    },
    "kernelspec": {
      "name": "python3",
      "display_name": "Python 3"
    },
    "language_info": {
      "name": "python"
    }
  },
  "cells": [
    {
      "cell_type": "markdown",
      "metadata": {
        "id": "view-in-github",
        "colab_type": "text"
      },
      "source": [
        "<a href=\"https://colab.research.google.com/github/SubhashMurmu/learning_stuff/blob/main/data_manipulation.ipynb\" target=\"_parent\"><img src=\"https://colab.research.google.com/assets/colab-badge.svg\" alt=\"Open In Colab\"/></a>"
      ]
    },
    {
      "cell_type": "code",
      "source": [
        "!pip install d2l==1.0.0a1.post0 --quiet\n",
        "\n",
        "\n",
        "%matplotlib inline\n",
        "import numpy as np\n",
        "from matplotlib_inline import backend_inline\n",
        "from d2l import torch as d2l"
      ],
      "metadata": {
        "id": "wORIaNN5Dlxx"
      },
      "execution_count": 74,
      "outputs": []
    },
    {
      "cell_type": "code",
      "execution_count": null,
      "metadata": {
        "id": "Y8OQFXk1q6_4"
      },
      "outputs": [],
      "source": [
        "import torch"
      ]
    },
    {
      "cell_type": "code",
      "source": [
        "x = torch.arange(12,dtype=torch.float32)   #to fill in the tensor x\n",
        "x"
      ],
      "metadata": {
        "colab": {
          "base_uri": "https://localhost:8080/"
        },
        "id": "tUYyY5SNrwfr",
        "outputId": "ce8f1d76-0f79-46d5-9df8-09d504f75b06"
      },
      "execution_count": null,
      "outputs": [
        {
          "output_type": "execute_result",
          "data": {
            "text/plain": [
              "tensor([ 0.,  1.,  2.,  3.,  4.,  5.,  6.,  7.,  8.,  9., 10., 11.])"
            ]
          },
          "metadata": {},
          "execution_count": 4
        }
      ]
    },
    {
      "cell_type": "code",
      "source": [
        "x.numel()  #no of elements in the tensor"
      ],
      "metadata": {
        "colab": {
          "base_uri": "https://localhost:8080/"
        },
        "id": "OP__6HZ0sVar",
        "outputId": "82a7ce39-31f1-4de3-de9c-583b22e61029"
      },
      "execution_count": null,
      "outputs": [
        {
          "output_type": "execute_result",
          "data": {
            "text/plain": [
              "12"
            ]
          },
          "metadata": {},
          "execution_count": 5
        }
      ]
    },
    {
      "cell_type": "code",
      "source": [
        "x.shape #to get dimension and size"
      ],
      "metadata": {
        "colab": {
          "base_uri": "https://localhost:8080/"
        },
        "id": "ywFowljJssDC",
        "outputId": "f38963ca-8e13-483b-9670-c3c64b64ae09"
      },
      "execution_count": null,
      "outputs": [
        {
          "output_type": "execute_result",
          "data": {
            "text/plain": [
              "torch.Size([12])"
            ]
          },
          "metadata": {},
          "execution_count": 6
        }
      ]
    },
    {
      "cell_type": "code",
      "source": [
        "X = x.reshape(3,4)  #(row , column)\n",
        "X                   #given a tensor of size n and target (h,w), we know that w=n/h.\n",
        "                    # if(soemthing , -1) then -1 denotes the above calculation done by the torch library"
      ],
      "metadata": {
        "colab": {
          "base_uri": "https://localhost:8080/"
        },
        "id": "BAzc15yJsxun",
        "outputId": "9875967a-dbb6-464a-c8ee-e60ff8132fe5"
      },
      "execution_count": null,
      "outputs": [
        {
          "output_type": "execute_result",
          "data": {
            "text/plain": [
              "tensor([[ 0.,  1.,  2.,  3.],\n",
              "        [ 4.,  5.,  6.,  7.],\n",
              "        [ 8.,  9., 10., 11.]])"
            ]
          },
          "metadata": {},
          "execution_count": 7
        }
      ]
    },
    {
      "cell_type": "code",
      "source": [
        "torch.zeros((2,3,4)) #to make all zeroes"
      ],
      "metadata": {
        "colab": {
          "base_uri": "https://localhost:8080/"
        },
        "id": "hmepPwQjtX2S",
        "outputId": "a7998529-502b-4aec-e781-e255adbd5b58"
      },
      "execution_count": null,
      "outputs": [
        {
          "output_type": "execute_result",
          "data": {
            "text/plain": [
              "tensor([[[0., 0., 0., 0.],\n",
              "         [0., 0., 0., 0.],\n",
              "         [0., 0., 0., 0.]],\n",
              "\n",
              "        [[0., 0., 0., 0.],\n",
              "         [0., 0., 0., 0.],\n",
              "         [0., 0., 0., 0.]]])"
            ]
          },
          "metadata": {},
          "execution_count": 8
        }
      ]
    },
    {
      "cell_type": "code",
      "source": [
        "torch.ones((2,3,4)) #make all ones"
      ],
      "metadata": {
        "colab": {
          "base_uri": "https://localhost:8080/"
        },
        "id": "HSA8RGIxu8Tj",
        "outputId": "98dd12ba-d99c-4c4c-a7b4-b318b7d04dff"
      },
      "execution_count": null,
      "outputs": [
        {
          "output_type": "execute_result",
          "data": {
            "text/plain": [
              "tensor([[[1., 1., 1., 1.],\n",
              "         [1., 1., 1., 1.],\n",
              "         [1., 1., 1., 1.]],\n",
              "\n",
              "        [[1., 1., 1., 1.],\n",
              "         [1., 1., 1., 1.],\n",
              "         [1., 1., 1., 1.]]])"
            ]
          },
          "metadata": {},
          "execution_count": 9
        }
      ]
    },
    {
      "cell_type": "code",
      "source": [
        "torch.randn(3,4) #random numbers from gaussian distribution"
      ],
      "metadata": {
        "colab": {
          "base_uri": "https://localhost:8080/"
        },
        "id": "Csp5tjeGvC28",
        "outputId": "1c560872-5656-46dd-e5ec-a9b938476f34"
      },
      "execution_count": null,
      "outputs": [
        {
          "output_type": "execute_result",
          "data": {
            "text/plain": [
              "tensor([[ 0.1569, -1.3363, -0.5072, -0.2924],\n",
              "        [ 0.1408, -0.5381, -0.1850,  0.4016],\n",
              "        [ 2.2772,  0.1304,  0.5562,  0.6728]])"
            ]
          },
          "metadata": {},
          "execution_count": 10
        }
      ]
    },
    {
      "cell_type": "code",
      "source": [
        "torch.tensor([[2,1,4,3],[1,2,3,4],[4,3,2,1]])  #making my own custom tensor"
      ],
      "metadata": {
        "colab": {
          "base_uri": "https://localhost:8080/"
        },
        "id": "Np3EiR-uvU5B",
        "outputId": "a4dede19-62e2-472c-b4ec-5587a8fb6697"
      },
      "execution_count": null,
      "outputs": [
        {
          "output_type": "execute_result",
          "data": {
            "text/plain": [
              "tensor([[2, 1, 4, 3],\n",
              "        [1, 2, 3, 4],\n",
              "        [4, 3, 2, 1]])"
            ]
          },
          "metadata": {},
          "execution_count": 11
        }
      ]
    },
    {
      "cell_type": "code",
      "source": [
        "X[-1] , X[1:3] #slicing operation"
      ],
      "metadata": {
        "colab": {
          "base_uri": "https://localhost:8080/"
        },
        "id": "5WTBDsb0xXmZ",
        "outputId": "ba286232-2240-4aaf-c073-3956a8d01d83"
      },
      "execution_count": null,
      "outputs": [
        {
          "output_type": "execute_result",
          "data": {
            "text/plain": [
              "(tensor([ 8.,  9., 10., 11.]),\n",
              " tensor([[ 4.,  5.,  6.,  7.],\n",
              "         [ 8.,  9., 10., 11.]]))"
            ]
          },
          "metadata": {},
          "execution_count": 12
        }
      ]
    },
    {
      "cell_type": "code",
      "source": [
        "X[1,2] = 17  #indexing\n",
        "X"
      ],
      "metadata": {
        "colab": {
          "base_uri": "https://localhost:8080/"
        },
        "id": "QUcAFEqfzSLf",
        "outputId": "85efeb7c-3e3a-40a4-ddb7-5adbc6016c2a"
      },
      "execution_count": null,
      "outputs": [
        {
          "output_type": "execute_result",
          "data": {
            "text/plain": [
              "tensor([[ 0.,  1.,  2.,  3.],\n",
              "        [ 4.,  5., 17.,  7.],\n",
              "        [ 8.,  9., 10., 11.]])"
            ]
          },
          "metadata": {},
          "execution_count": 13
        }
      ]
    },
    {
      "cell_type": "code",
      "source": [
        "X[:2 , : ] = 12 #(row slicing, column slicing)\n",
        "X"
      ],
      "metadata": {
        "colab": {
          "base_uri": "https://localhost:8080/"
        },
        "id": "yXgKYzbKzprM",
        "outputId": "01fb8499-79ee-4c1d-fcfd-342ff0487996"
      },
      "execution_count": null,
      "outputs": [
        {
          "output_type": "execute_result",
          "data": {
            "text/plain": [
              "tensor([[12., 12., 12., 12.],\n",
              "        [12., 12., 12., 12.],\n",
              "        [ 8.,  9., 10., 11.]])"
            ]
          },
          "metadata": {},
          "execution_count": 14
        }
      ]
    },
    {
      "cell_type": "code",
      "source": [
        "torch.exp(x)\n"
      ],
      "metadata": {
        "colab": {
          "base_uri": "https://localhost:8080/"
        },
        "id": "BW1hfgc20Gv9",
        "outputId": "8e66c2de-3e8a-40be-972e-38e62832331b"
      },
      "execution_count": null,
      "outputs": [
        {
          "output_type": "execute_result",
          "data": {
            "text/plain": [
              "tensor([162754.7969, 162754.7969, 162754.7969, 162754.7969, 162754.7969,\n",
              "        162754.7969, 162754.7969, 162754.7969,   2980.9580,   8103.0840,\n",
              "         22026.4648,  59874.1406])"
            ]
          },
          "metadata": {},
          "execution_count": 15
        }
      ]
    },
    {
      "cell_type": "code",
      "source": [
        "x = torch.tensor([1,2,4,8])\n",
        "y = torch.tensor([2,2,2,2])\n",
        "x+y , x-y , x*y , x/y ,x**y"
      ],
      "metadata": {
        "colab": {
          "base_uri": "https://localhost:8080/"
        },
        "id": "Va5UaEAG2j_l",
        "outputId": "954ab2c3-37eb-4240-b4c6-264c212f4c47"
      },
      "execution_count": null,
      "outputs": [
        {
          "output_type": "execute_result",
          "data": {
            "text/plain": [
              "(tensor([ 3,  4,  6, 10]),\n",
              " tensor([-1,  0,  2,  6]),\n",
              " tensor([ 2,  4,  8, 16]),\n",
              " tensor([0.5000, 1.0000, 2.0000, 4.0000]),\n",
              " tensor([ 1,  4, 16, 64]))"
            ]
          },
          "metadata": {},
          "execution_count": 16
        }
      ]
    },
    {
      "cell_type": "code",
      "source": [
        "X = torch.arange(12,dtype=torch.float32).reshape((3,4))    #torch.cat((X, Y), dim=0) → Concatenate along rows (vertical stack)\n",
        "Y = torch.tensor([[2,1,4,3],[1,2,3,4],[4,3,2,1]])          #torch.cat((X, Y), dim=1) → Concatenate along columns (horizontal stack)\n",
        "torch.cat((X,Y) , dim = 0 ) , torch.cat((X,Y) , dim = 1 )"
      ],
      "metadata": {
        "colab": {
          "base_uri": "https://localhost:8080/"
        },
        "id": "dSXsZcJP3uLm",
        "outputId": "87b5fd22-edb5-40d2-c2e6-16374c39b676"
      },
      "execution_count": null,
      "outputs": [
        {
          "output_type": "execute_result",
          "data": {
            "text/plain": [
              "(tensor([[ 0.,  1.,  2.,  3.],\n",
              "         [ 4.,  5.,  6.,  7.],\n",
              "         [ 8.,  9., 10., 11.],\n",
              "         [ 2.,  1.,  4.,  3.],\n",
              "         [ 1.,  2.,  3.,  4.],\n",
              "         [ 4.,  3.,  2.,  1.]]),\n",
              " tensor([[ 0.,  1.,  2.,  3.,  2.,  1.,  4.,  3.],\n",
              "         [ 4.,  5.,  6.,  7.,  1.,  2.,  3.,  4.],\n",
              "         [ 8.,  9., 10., 11.,  4.,  3.,  2.,  1.]]))"
            ]
          },
          "metadata": {},
          "execution_count": 17
        }
      ]
    },
    {
      "cell_type": "code",
      "source": [
        "X == Y  #compare"
      ],
      "metadata": {
        "colab": {
          "base_uri": "https://localhost:8080/"
        },
        "id": "-zU14WGd6W0M",
        "outputId": "cd4495ef-91bf-436c-b2d2-ab6f9db64fa3"
      },
      "execution_count": null,
      "outputs": [
        {
          "output_type": "execute_result",
          "data": {
            "text/plain": [
              "tensor([[False,  True, False,  True],\n",
              "        [False, False, False, False],\n",
              "        [False, False, False, False]])"
            ]
          },
          "metadata": {},
          "execution_count": 18
        }
      ]
    },
    {
      "cell_type": "code",
      "source": [
        "X.sum()"
      ],
      "metadata": {
        "colab": {
          "base_uri": "https://localhost:8080/"
        },
        "id": "Xw59gyEE6csC",
        "outputId": "815d0fec-793b-4811-b267-f378475fe864"
      },
      "execution_count": null,
      "outputs": [
        {
          "output_type": "execute_result",
          "data": {
            "text/plain": [
              "tensor(66.)"
            ]
          },
          "metadata": {},
          "execution_count": 19
        }
      ]
    },
    {
      "cell_type": "code",
      "source": [
        "a = torch.arange(3).reshape((3,1))\n",
        "b = torch.arange(2).reshape((1,2))\n",
        "a,b"
      ],
      "metadata": {
        "colab": {
          "base_uri": "https://localhost:8080/"
        },
        "id": "5lhZi5ka6zsJ",
        "outputId": "4c5426e1-3f9b-4ddd-e462-e7e73db6403e"
      },
      "execution_count": null,
      "outputs": [
        {
          "output_type": "execute_result",
          "data": {
            "text/plain": [
              "(tensor([[0],\n",
              "         [1],\n",
              "         [2]]),\n",
              " tensor([[0, 1]]))"
            ]
          },
          "metadata": {},
          "execution_count": 20
        }
      ]
    },
    {
      "cell_type": "code",
      "source": [
        "a+b  #Since a and b are 3 × 1 and 1 × 2 matrices, respectively, their shapes do not match up. Broadcasting produces a larger 3 × 2 matrix by replicating matrix a along the columns and matrix b along the rows beore adding them elementwise."
      ],
      "metadata": {
        "colab": {
          "base_uri": "https://localhost:8080/"
        },
        "id": "3CB5h4A-7jsv",
        "outputId": "6a1d705c-2c5b-4061-adef-83defab05e0e"
      },
      "execution_count": null,
      "outputs": [
        {
          "output_type": "execute_result",
          "data": {
            "text/plain": [
              "tensor([[0, 1],\n",
              "        [1, 2],\n",
              "        [2, 3]])"
            ]
          },
          "metadata": {},
          "execution_count": 21
        }
      ]
    },
    {
      "cell_type": "code",
      "source": [
        "before = id(Y)\n",
        "Y = Y + X\n",
        "id(Y) == before"
      ],
      "metadata": {
        "colab": {
          "base_uri": "https://localhost:8080/"
        },
        "id": "mQYfU-ed7ufH",
        "outputId": "f6d57850-bd93-4dc7-e063-76940e2e0101"
      },
      "execution_count": null,
      "outputs": [
        {
          "output_type": "execute_result",
          "data": {
            "text/plain": [
              "False"
            ]
          },
          "metadata": {},
          "execution_count": 22
        }
      ]
    },
    {
      "cell_type": "code",
      "source": [
        "Z = torch.zeros_like(Y)\n",
        "print('id(Z):', id(Z))\n",
        "Z[:] = X + Y\n",
        "print('id(Z):', id(Z))"
      ],
      "metadata": {
        "id": "xQmOi3QTnLE9",
        "outputId": "fb991312-b9d3-463d-88b6-46ac4ae41e78",
        "colab": {
          "base_uri": "https://localhost:8080/"
        }
      },
      "execution_count": null,
      "outputs": [
        {
          "output_type": "stream",
          "name": "stdout",
          "text": [
            "id(Z): 139099932363088\n",
            "id(Z): 139099932363088\n"
          ]
        }
      ]
    },
    {
      "cell_type": "code",
      "source": [
        "before = id(X)    # if the value of X is not reused in subsequent computations\n",
        "X += Y            # we can also use X[:] = X + Yor X += Y to reduce the memory overhead of the operation.\n",
        "id(X) == before"
      ],
      "metadata": {
        "id": "8ZV7ty81uELk",
        "outputId": "23be95cc-38cd-4375-f1e6-f1d33e82eeb2",
        "colab": {
          "base_uri": "https://localhost:8080/"
        }
      },
      "execution_count": null,
      "outputs": [
        {
          "output_type": "execute_result",
          "data": {
            "text/plain": [
              "True"
            ]
          },
          "metadata": {},
          "execution_count": 24
        }
      ]
    },
    {
      "cell_type": "code",
      "source": [
        "A = X.numpy()\n",
        "B = torch.from_numpy(A)\n",
        "type(A), type(B)"
      ],
      "metadata": {
        "id": "zv1JXwauuutl",
        "outputId": "9e562e04-34d7-401b-89c5-a7b26fc14a44",
        "colab": {
          "base_uri": "https://localhost:8080/"
        }
      },
      "execution_count": null,
      "outputs": [
        {
          "output_type": "execute_result",
          "data": {
            "text/plain": [
              "(numpy.ndarray, torch.Tensor)"
            ]
          },
          "metadata": {},
          "execution_count": 25
        }
      ]
    },
    {
      "cell_type": "code",
      "source": [
        "# Correct version using scalar tensor (no square brackets)\n",
        "a = torch.tensor(3.5)  # Now `a` is a scalar tensor\n",
        "\n",
        "print(a)         # tensor(3.5)\n",
        "print(a.item())  # Returns 3.5 as Python float\n",
        "print(float(a))  # Converts to float: 3.5\n",
        "print(int(a))    # Converts to int: 3"
      ],
      "metadata": {
        "id": "a5qRDYYru9Ch",
        "outputId": "28d104e9-985f-49c1-dfbb-4dff3f102495",
        "colab": {
          "base_uri": "https://localhost:8080/"
        }
      },
      "execution_count": null,
      "outputs": [
        {
          "output_type": "stream",
          "name": "stdout",
          "text": [
            "tensor(3.5000)\n",
            "3.5\n",
            "3.5\n",
            "3\n"
          ]
        }
      ]
    },
    {
      "cell_type": "code",
      "source": [
        "import os  # Import the os module to interact with the file system\n",
        "\n",
        "# Create a directory '../data' if it doesn't already exist\n",
        "os.makedirs(os.path.join('..', 'data'), exist_ok=True)\n",
        "\n",
        "# Define the path to the CSV file\n",
        "data_file = os.path.join('..', 'data', 'house_tiny.csv')\n",
        "\n",
        "# Open the file in write mode and write the CSV content\n",
        "with open(data_file, 'w') as f:\n",
        "    f.write('''NumRooms,RoofType,Price\n",
        "NA,NA,127500\n",
        "2,NA,106000\n",
        "4,Slate,178100\n",
        "NA,NA,140000''')"
      ],
      "metadata": {
        "id": "SPrrMLWIvZdf"
      },
      "execution_count": null,
      "outputs": []
    },
    {
      "cell_type": "code",
      "source": [
        "import pandas as pd\n",
        "data = pd.read_csv(data_file)\n",
        "print(data)"
      ],
      "metadata": {
        "id": "0Q-HktGsvxKn",
        "outputId": "dbc4a1f1-acef-45d8-d9e9-0e26e61e45e8",
        "colab": {
          "base_uri": "https://localhost:8080/"
        }
      },
      "execution_count": null,
      "outputs": [
        {
          "output_type": "stream",
          "name": "stdout",
          "text": [
            "   NumRooms RoofType   Price\n",
            "0       NaN      NaN  127500\n",
            "1       2.0      NaN  106000\n",
            "2       4.0    Slate  178100\n",
            "3       NaN      NaN  140000\n"
          ]
        }
      ]
    },
    {
      "cell_type": "code",
      "source": [
        "# Split the dataset into input features and target values\n",
        "\n",
        "# Select the first two columns (NumRooms and RoofType) as input features\n",
        "inputs = data.iloc[:, 0:2]\n",
        "\n",
        "# Select the third column (Price) as the target variable\n",
        "targets = data.iloc[:, 2]\n",
        "\n",
        "# Convert categorical columns in 'inputs' into one-hot encoded format\n",
        "# 'dummy_na=True' means it will also create an extra column for missing values (NaNs)\n",
        "inputs = pd.get_dummies(inputs, dummy_na=True)\n",
        "\n",
        "# Print the one-hot encoded input features\n",
        "print(inputs)"
      ],
      "metadata": {
        "id": "hbX-AZe6wXOF",
        "outputId": "96cfaaec-76a6-470d-aa36-21368be5208f",
        "colab": {
          "base_uri": "https://localhost:8080/"
        }
      },
      "execution_count": null,
      "outputs": [
        {
          "output_type": "stream",
          "name": "stdout",
          "text": [
            "   NumRooms  RoofType_Slate  RoofType_nan\n",
            "0       NaN           False          True\n",
            "1       2.0           False          True\n",
            "2       4.0            True         False\n",
            "3       NaN           False          True\n"
          ]
        }
      ]
    },
    {
      "cell_type": "code",
      "source": [
        "inputs = inputs.fillna(inputs.mean()) #For missing numerical values, one common heuristic is to replace the NaN entries with the mean value of the corresponding column.\n",
        "print(inputs)"
      ],
      "metadata": {
        "id": "eYQybeNIwfaq",
        "outputId": "ee5365ff-8bb4-47ed-b393-34a5613cd430",
        "colab": {
          "base_uri": "https://localhost:8080/"
        }
      },
      "execution_count": null,
      "outputs": [
        {
          "output_type": "stream",
          "name": "stdout",
          "text": [
            "   NumRooms  RoofType_Slate  RoofType_nan\n",
            "0       3.0           False          True\n",
            "1       2.0           False          True\n",
            "2       4.0            True         False\n",
            "3       3.0           False          True\n"
          ]
        }
      ]
    },
    {
      "cell_type": "code",
      "source": [
        "import torch  # Import PyTorch\n",
        "\n",
        "# Convert the one-hot encoded input DataFrame `inputs` into a NumPy array of type float,\n",
        "# then wrap it into a PyTorch tensor. This will be the input feature tensor.\n",
        "X = torch.tensor(inputs.to_numpy(dtype=float))\n",
        "\n",
        "# Convert the target Series `targets` (Price column) into a NumPy array of type float,\n",
        "# then wrap it into a PyTorch tensor. This will be the output (label) tensor.\n",
        "y = torch.tensor(targets.to_numpy(dtype=float))\n",
        "\n",
        "# Return both tensors (X for inputs, y for labels)\n",
        "X, y"
      ],
      "metadata": {
        "id": "GXY7QS8PwlWV",
        "outputId": "a31cb650-04e0-4141-cc58-3c159f50de8f",
        "colab": {
          "base_uri": "https://localhost:8080/"
        }
      },
      "execution_count": null,
      "outputs": [
        {
          "output_type": "execute_result",
          "data": {
            "text/plain": [
              "(tensor([[3., 0., 1.],\n",
              "         [2., 0., 1.],\n",
              "         [4., 1., 0.],\n",
              "         [3., 0., 1.]], dtype=torch.float64),\n",
              " tensor([127500., 106000., 178100., 140000.], dtype=torch.float64))"
            ]
          },
          "metadata": {},
          "execution_count": 31
        }
      ]
    },
    {
      "cell_type": "code",
      "source": [
        "x = torch.tensor(3.0)\n",
        "y = torch.tensor(2.0)\n",
        "x + y, x * y, x / y, x**y"
      ],
      "metadata": {
        "id": "FXiy9_-ZxwM1",
        "outputId": "6fb14a95-8b66-4858-b186-7468833e3507",
        "colab": {
          "base_uri": "https://localhost:8080/"
        }
      },
      "execution_count": null,
      "outputs": [
        {
          "output_type": "execute_result",
          "data": {
            "text/plain": [
              "(tensor(5.), tensor(6.), tensor(1.5000), tensor(9.))"
            ]
          },
          "metadata": {},
          "execution_count": 32
        }
      ]
    },
    {
      "cell_type": "markdown",
      "source": [
        "#VECTOR"
      ],
      "metadata": {
        "id": "R5I9KJFQyFxm"
      }
    },
    {
      "cell_type": "code",
      "source": [
        "x = torch.arange(3)\n",
        "x"
      ],
      "metadata": {
        "id": "FHu3I3blyLyu",
        "outputId": "92c184cd-98d4-436f-bf2e-c93d26228ca0",
        "colab": {
          "base_uri": "https://localhost:8080/"
        }
      },
      "execution_count": null,
      "outputs": [
        {
          "output_type": "execute_result",
          "data": {
            "text/plain": [
              "tensor([0, 1, 2])"
            ]
          },
          "metadata": {},
          "execution_count": 33
        }
      ]
    },
    {
      "cell_type": "code",
      "source": [
        "x[2]"
      ],
      "metadata": {
        "id": "JfD7V9LRyfgm",
        "outputId": "26dce423-f7b0-4d55-e1e4-40e18a88ead9",
        "colab": {
          "base_uri": "https://localhost:8080/"
        }
      },
      "execution_count": null,
      "outputs": [
        {
          "output_type": "execute_result",
          "data": {
            "text/plain": [
              "tensor(2)"
            ]
          },
          "metadata": {},
          "execution_count": 34
        }
      ]
    },
    {
      "cell_type": "code",
      "source": [
        "len(x)"
      ],
      "metadata": {
        "id": "taNHxbZ9ymOe",
        "outputId": "e6544658-e2f5-4bbc-9ba7-359282f4c47f",
        "colab": {
          "base_uri": "https://localhost:8080/"
        }
      },
      "execution_count": null,
      "outputs": [
        {
          "output_type": "execute_result",
          "data": {
            "text/plain": [
              "3"
            ]
          },
          "metadata": {},
          "execution_count": 35
        }
      ]
    },
    {
      "cell_type": "code",
      "source": [
        "x.shape"
      ],
      "metadata": {
        "id": "-piYREq-yoPw",
        "outputId": "847c884c-fb12-4685-edea-ed4c326022c6",
        "colab": {
          "base_uri": "https://localhost:8080/"
        }
      },
      "execution_count": null,
      "outputs": [
        {
          "output_type": "execute_result",
          "data": {
            "text/plain": [
              "torch.Size([3])"
            ]
          },
          "metadata": {},
          "execution_count": 36
        }
      ]
    },
    {
      "cell_type": "markdown",
      "source": [
        "#MATRICES"
      ],
      "metadata": {
        "id": "mwteQyiqyx2O"
      }
    },
    {
      "cell_type": "code",
      "source": [
        "A = torch.arange(6).reshape(3, 2)\n",
        "A"
      ],
      "metadata": {
        "id": "iZ_uSq7ey4BH",
        "outputId": "9fea0118-5fe1-4671-9ac9-2b657564a038",
        "colab": {
          "base_uri": "https://localhost:8080/"
        }
      },
      "execution_count": null,
      "outputs": [
        {
          "output_type": "execute_result",
          "data": {
            "text/plain": [
              "tensor([[0, 1],\n",
              "        [2, 3],\n",
              "        [4, 5]])"
            ]
          },
          "metadata": {},
          "execution_count": 37
        }
      ]
    },
    {
      "cell_type": "code",
      "source": [
        "A.T  #to transpose a matrix"
      ],
      "metadata": {
        "id": "nIVAcBEBy-5e",
        "outputId": "f4e20e90-6b46-446a-d945-186d5bf7dd75",
        "colab": {
          "base_uri": "https://localhost:8080/"
        }
      },
      "execution_count": null,
      "outputs": [
        {
          "output_type": "execute_result",
          "data": {
            "text/plain": [
              "tensor([[0, 2, 4],\n",
              "        [1, 3, 5]])"
            ]
          },
          "metadata": {},
          "execution_count": 38
        }
      ]
    },
    {
      "cell_type": "code",
      "source": [
        "A = torch.tensor([[1, 2, 3], [2, 0, 4], [3, 4, 5]])\n",
        "A == A.T   #Symmetric matrices are the subset of square matrices that are equal to their own transposes: A = A (transpose)."
      ],
      "metadata": {
        "id": "l4PScz3EzaN1",
        "outputId": "16f58f81-5076-4822-a5d4-e68f59b11bbc",
        "colab": {
          "base_uri": "https://localhost:8080/"
        }
      },
      "execution_count": null,
      "outputs": [
        {
          "output_type": "execute_result",
          "data": {
            "text/plain": [
              "tensor([[True, True, True],\n",
              "        [True, True, True],\n",
              "        [True, True, True]])"
            ]
          },
          "metadata": {},
          "execution_count": 39
        }
      ]
    },
    {
      "cell_type": "code",
      "source": [
        "torch.arange(24).reshape(2, 3, 4)"
      ],
      "metadata": {
        "id": "glipZGG7zp1M",
        "outputId": "4a3cdf05-ae10-4f8c-a913-dd53530f797b",
        "colab": {
          "base_uri": "https://localhost:8080/"
        }
      },
      "execution_count": null,
      "outputs": [
        {
          "output_type": "execute_result",
          "data": {
            "text/plain": [
              "tensor([[[ 0,  1,  2,  3],\n",
              "         [ 4,  5,  6,  7],\n",
              "         [ 8,  9, 10, 11]],\n",
              "\n",
              "        [[12, 13, 14, 15],\n",
              "         [16, 17, 18, 19],\n",
              "         [20, 21, 22, 23]]])"
            ]
          },
          "metadata": {},
          "execution_count": 40
        }
      ]
    },
    {
      "cell_type": "code",
      "source": [
        "A = torch.arange(6, dtype=torch.float32).reshape(2, 3)\n",
        "B = A.clone() # Assign a copy of A to B by allocating new memory\n",
        "A, A + B"
      ],
      "metadata": {
        "id": "no12hcxuz05l",
        "outputId": "40ccdf2b-0598-4e16-d92d-9fc0dd822490",
        "colab": {
          "base_uri": "https://localhost:8080/"
        }
      },
      "execution_count": null,
      "outputs": [
        {
          "output_type": "execute_result",
          "data": {
            "text/plain": [
              "(tensor([[0., 1., 2.],\n",
              "         [3., 4., 5.]]),\n",
              " tensor([[ 0.,  2.,  4.],\n",
              "         [ 6.,  8., 10.]]))"
            ]
          },
          "metadata": {},
          "execution_count": 41
        }
      ]
    },
    {
      "cell_type": "code",
      "source": [
        "A * B  #Hadamard Product"
      ],
      "metadata": {
        "id": "ktlHnxKn0B5V",
        "outputId": "bbfce136-2876-4835-f717-753f65aec1ac",
        "colab": {
          "base_uri": "https://localhost:8080/"
        }
      },
      "execution_count": null,
      "outputs": [
        {
          "output_type": "execute_result",
          "data": {
            "text/plain": [
              "tensor([[ 0.,  1.,  4.],\n",
              "        [ 9., 16., 25.]])"
            ]
          },
          "metadata": {},
          "execution_count": 42
        }
      ]
    },
    {
      "cell_type": "code",
      "source": [
        "import torch\n",
        "\n",
        "a = 2  # 'a' is a scalar (integer)\n",
        "\n",
        "# Create a tensor with values from 0 to 23 and reshape it into shape (2, 3, 4)\n",
        "X = torch.arange(24).reshape(2, 3, 4)\n",
        "# Add scalar 'a' to every element of tensor 'X' using broadcasting\n",
        "print(a + X)\n",
        "# Multiply scalar 'a' with every element of tensor 'X' and get the shape of the result\n",
        "print((a * X).shape)"
      ],
      "metadata": {
        "id": "da-5DFGN1UQ9",
        "outputId": "7446415d-f1ca-4434-ac49-170732a19e01",
        "colab": {
          "base_uri": "https://localhost:8080/"
        }
      },
      "execution_count": null,
      "outputs": [
        {
          "output_type": "stream",
          "name": "stdout",
          "text": [
            "tensor([[[ 2,  3,  4,  5],\n",
            "         [ 6,  7,  8,  9],\n",
            "         [10, 11, 12, 13]],\n",
            "\n",
            "        [[14, 15, 16, 17],\n",
            "         [18, 19, 20, 21],\n",
            "         [22, 23, 24, 25]]])\n",
            "torch.Size([2, 3, 4])\n"
          ]
        }
      ]
    },
    {
      "cell_type": "code",
      "source": [
        "x = torch.arange(3, dtype=torch.float32)\n",
        "x, x.sum()"
      ],
      "metadata": {
        "id": "wK4ku3cK2Hga",
        "outputId": "950e6b81-6b98-4851-af19-24ba1d4358ee",
        "colab": {
          "base_uri": "https://localhost:8080/"
        }
      },
      "execution_count": null,
      "outputs": [
        {
          "output_type": "execute_result",
          "data": {
            "text/plain": [
              "(tensor([0., 1., 2.]), tensor(3.))"
            ]
          },
          "metadata": {},
          "execution_count": 44
        }
      ]
    },
    {
      "cell_type": "code",
      "source": [
        "A.shape, A.sum()"
      ],
      "metadata": {
        "id": "CQ0OBszZ2Ohy",
        "outputId": "afcf6095-bd71-4789-bc9c-cc5aaed26fa4",
        "colab": {
          "base_uri": "https://localhost:8080/"
        }
      },
      "execution_count": null,
      "outputs": [
        {
          "output_type": "execute_result",
          "data": {
            "text/plain": [
              "(torch.Size([2, 3]), tensor(15.))"
            ]
          },
          "metadata": {},
          "execution_count": 45
        }
      ]
    },
    {
      "cell_type": "code",
      "source": [
        "A.shape, A.sum(axis=0).shape  # Sum the elements of tensor 'A' along axis 0 (the first dimension)\n",
        "# This collapses axis 0 by adding together elements at the same position in that dimension,\n",
        "# resulting in a tensor with one fewer dimension along axis 0"
      ],
      "metadata": {
        "id": "40i1HcAu2T2R",
        "outputId": "a44a7f1e-2b49-4ba1-8c72-ff9df0f90355",
        "colab": {
          "base_uri": "https://localhost:8080/"
        }
      },
      "execution_count": null,
      "outputs": [
        {
          "output_type": "execute_result",
          "data": {
            "text/plain": [
              "(torch.Size([2, 3]), torch.Size([3]))"
            ]
          },
          "metadata": {},
          "execution_count": 46
        }
      ]
    },
    {
      "cell_type": "code",
      "source": [
        "A.shape, A.sum(axis=1).shape"
      ],
      "metadata": {
        "id": "2jXjOVth2d-w",
        "outputId": "0d9649e9-07e3-401f-f91a-7d037760cf7a",
        "colab": {
          "base_uri": "https://localhost:8080/"
        }
      },
      "execution_count": null,
      "outputs": [
        {
          "output_type": "execute_result",
          "data": {
            "text/plain": [
              "(torch.Size([2, 3]), torch.Size([2]))"
            ]
          },
          "metadata": {},
          "execution_count": 47
        }
      ]
    },
    {
      "cell_type": "code",
      "source": [
        "A.sum(axis=[0, 1]) == A.sum() # Same as A.sum()"
      ],
      "metadata": {
        "id": "Iu9Z-UQ44nrZ",
        "outputId": "5c3b5235-f23d-4d5e-e2d6-0114b5f2e901",
        "colab": {
          "base_uri": "https://localhost:8080/"
        }
      },
      "execution_count": null,
      "outputs": [
        {
          "output_type": "execute_result",
          "data": {
            "text/plain": [
              "tensor(True)"
            ]
          },
          "metadata": {},
          "execution_count": 48
        }
      ]
    },
    {
      "cell_type": "code",
      "source": [
        "A.mean(), A.sum() / A.numel()"
      ],
      "metadata": {
        "id": "b5fiQnXs4zsQ",
        "outputId": "fff9d00e-ee4a-4309-a8c1-30afdff6c1c2",
        "colab": {
          "base_uri": "https://localhost:8080/"
        }
      },
      "execution_count": null,
      "outputs": [
        {
          "output_type": "execute_result",
          "data": {
            "text/plain": [
              "(tensor(2.5000), tensor(2.5000))"
            ]
          },
          "metadata": {},
          "execution_count": 49
        }
      ]
    },
    {
      "cell_type": "code",
      "source": [
        "A.mean(axis=0), A.sum(axis=0) / A.shape[0]"
      ],
      "metadata": {
        "id": "opm1mhP_45iX",
        "outputId": "ac35d564-183e-4f6e-cacd-6af65bdc4170",
        "colab": {
          "base_uri": "https://localhost:8080/"
        }
      },
      "execution_count": null,
      "outputs": [
        {
          "output_type": "execute_result",
          "data": {
            "text/plain": [
              "(tensor([1.5000, 2.5000, 3.5000]), tensor([1.5000, 2.5000, 3.5000]))"
            ]
          },
          "metadata": {},
          "execution_count": 50
        }
      ]
    },
    {
      "cell_type": "code",
      "source": [
        "# Sum the elements of tensor 'A' along axis 1 (the second dimension)\n",
        "# keepdims=True keeps the reduced dimension as size 1, so the output tensor\n",
        "# retains the same number of dimensions as 'A'\n",
        "sum_A = A.sum(axis=1, keepdims=True)\n",
        "\n",
        "# Return the summed tensor and its shape\n",
        "sum_A, sum_A.shape\n"
      ],
      "metadata": {
        "id": "Ez-8ikiI5GmW",
        "outputId": "791f92b2-2496-4890-a29a-f5bebf9ed9ec",
        "colab": {
          "base_uri": "https://localhost:8080/"
        }
      },
      "execution_count": null,
      "outputs": [
        {
          "output_type": "execute_result",
          "data": {
            "text/plain": [
              "(tensor([[ 3.],\n",
              "         [12.]]),\n",
              " torch.Size([2, 1]))"
            ]
          },
          "metadata": {},
          "execution_count": 51
        }
      ]
    },
    {
      "cell_type": "code",
      "source": [
        "A / sum_A"
      ],
      "metadata": {
        "id": "tG1mlYH_5xMD",
        "outputId": "feb53343-b708-4eb5-ffcb-ccc6c7124b32",
        "colab": {
          "base_uri": "https://localhost:8080/"
        }
      },
      "execution_count": null,
      "outputs": [
        {
          "output_type": "execute_result",
          "data": {
            "text/plain": [
              "tensor([[0.0000, 0.3333, 0.6667],\n",
              "        [0.2500, 0.3333, 0.4167]])"
            ]
          },
          "metadata": {},
          "execution_count": 52
        }
      ]
    },
    {
      "cell_type": "code",
      "source": [
        "A.cumsum(axis=0)"
      ],
      "metadata": {
        "id": "QZGXqow05_hr",
        "outputId": "46d2969d-4357-4b5b-ed2b-bf84967d819d",
        "colab": {
          "base_uri": "https://localhost:8080/"
        }
      },
      "execution_count": null,
      "outputs": [
        {
          "output_type": "execute_result",
          "data": {
            "text/plain": [
              "tensor([[0., 1., 2.],\n",
              "        [3., 5., 7.]])"
            ]
          },
          "metadata": {},
          "execution_count": 53
        }
      ]
    },
    {
      "cell_type": "code",
      "source": [
        "# Compute the cumulative sum of tensor 'A' along axis 0 (the first dimension)\n",
        "# This means for each element along axis 0, sum all previous elements up to the current one\n",
        "# The result has the same shape as 'A', but each element is the running total down the rows\n",
        "A.cumsum(axis=0)\n"
      ],
      "metadata": {
        "id": "XNqwDOPf6X1C",
        "outputId": "06be9e8f-ac4e-4bae-d3bc-2964046a9047",
        "colab": {
          "base_uri": "https://localhost:8080/"
        }
      },
      "execution_count": null,
      "outputs": [
        {
          "output_type": "execute_result",
          "data": {
            "text/plain": [
              "tensor([[0., 1., 2.],\n",
              "        [3., 5., 7.]])"
            ]
          },
          "metadata": {},
          "execution_count": 54
        }
      ]
    },
    {
      "cell_type": "code",
      "source": [
        "y = torch.ones(3, dtype = torch.float32)  #Create a tensor 'y' of size 3, filled with ones, with data type float32\n",
        "x, y, torch.dot(x, y)"
      ],
      "metadata": {
        "id": "Zypuq4bf6Z-p",
        "outputId": "2c5d85a5-0eac-47f2-98a3-448ad648bea0",
        "colab": {
          "base_uri": "https://localhost:8080/"
        }
      },
      "execution_count": null,
      "outputs": [
        {
          "output_type": "execute_result",
          "data": {
            "text/plain": [
              "(tensor([0., 1., 2.]), tensor([1., 1., 1.]), tensor(3.))"
            ]
          },
          "metadata": {},
          "execution_count": 55
        }
      ]
    },
    {
      "cell_type": "code",
      "source": [
        "torch.sum(x*y)   #Equivalently, we can calculate the dot product o two vectors by perorming an elementwise multiplication followed by a sum"
      ],
      "metadata": {
        "id": "brSTCBFV8GNz",
        "outputId": "9787c7ec-a3f4-40a3-e65c-cc8aadc97d48",
        "colab": {
          "base_uri": "https://localhost:8080/"
        }
      },
      "execution_count": null,
      "outputs": [
        {
          "output_type": "execute_result",
          "data": {
            "text/plain": [
              "tensor(3.)"
            ]
          },
          "metadata": {},
          "execution_count": 56
        }
      ]
    },
    {
      "cell_type": "code",
      "source": [
        "# A is a 2D tensor (matrix)\n",
        "# x is a 1D tensor (vector)\n",
        "\n",
        "# Get the shape of A (rows, columns)\n",
        "print(A.shape)\n",
        "\n",
        "# Get the shape of x (length of vector)\n",
        "print(x.shape)\n",
        "\n",
        "# Perform matrix-vector multiplication using torch.mv\n",
        "# Multiplies matrix A by vector x, producing a vector\n",
        "print(torch.mv(A, x))\n",
        "\n",
        "# Another way to do matrix-vector multiplication using @ operator\n",
        "# Equivalent to torch.mv(A, x)\n",
        "print(A @ x)"
      ],
      "metadata": {
        "id": "31IMQHvG9DkL",
        "outputId": "acf84448-39e7-4707-ca14-37681f92965f",
        "colab": {
          "base_uri": "https://localhost:8080/"
        }
      },
      "execution_count": null,
      "outputs": [
        {
          "output_type": "stream",
          "name": "stdout",
          "text": [
            "torch.Size([2, 3])\n",
            "torch.Size([3])\n",
            "tensor([ 5., 14.])\n",
            "tensor([ 5., 14.])\n"
          ]
        }
      ]
    },
    {
      "cell_type": "code",
      "source": [
        "B = torch.ones(3, 4)\n",
        "torch.mm(A, B), A@B"
      ],
      "metadata": {
        "id": "GBe7lT2-9k8s",
        "outputId": "0b0322a7-2db2-4373-d18e-bea2578002a8",
        "colab": {
          "base_uri": "https://localhost:8080/"
        }
      },
      "execution_count": null,
      "outputs": [
        {
          "output_type": "execute_result",
          "data": {
            "text/plain": [
              "(tensor([[ 3.,  3.,  3.,  3.],\n",
              "         [12., 12., 12., 12.]]),\n",
              " tensor([[ 3.,  3.,  3.,  3.],\n",
              "         [12., 12., 12., 12.]]))"
            ]
          },
          "metadata": {},
          "execution_count": 58
        }
      ]
    },
    {
      "cell_type": "markdown",
      "source": [
        "# Norms\n",
        "\n",
        "A **norm** is a function $\\|\\cdot\\|$ that maps a vector to a scalar and satisfies the following three properties:\n",
        "\n",
        "1. **Absolute scalability**: Given any vector $\\mathbf{x} \\in \\mathbb{R}^n$, if we scale it by a scalar $\\alpha \\in \\mathbb{R}$, its norm scales accordingly:\n",
        "   $$\\|\\alpha \\mathbf{x}\\| = |\\alpha| \\cdot \\|\\mathbf{x}\\|$$\n",
        "\n",
        "2. **Triangle inequality**: For any vectors $\\mathbf{x}, \\mathbf{y} \\in \\mathbb{R}^n$:\n",
        "   $$\\|\\mathbf{x} + \\mathbf{y}\\| \\leq \\|\\mathbf{x}\\| + \\|\\mathbf{y}\\|$$\n",
        "\n",
        "3. **Positive definiteness**: For any vector $\\mathbf{x} \\in \\mathbb{R}^n$:\n",
        "   $$\\|\\mathbf{x}\\| \\geq 0 \\text{ with equality iff } \\mathbf{x} = \\mathbf{0}$$"
      ],
      "metadata": {
        "id": "gEKxRtT9AI_P"
      }
    },
    {
      "cell_type": "markdown",
      "source": [
        "## ℓ₂ Norm (Euclidean Norm)\n",
        "\n",
        "Many functions are valid norms, and different norms encode different notions of size. The **Euclidean norm** (familiar from elementary geometry when calculating a right triangle's hypotenuse) is the square root of the sum of squares of a vector's elements.\n",
        "\n",
        "Formally, this is called the $\\ell_{2}$-norm and is expressed as:\n",
        "\n",
        "$$\n",
        "\\|\\mathbf{x}\\|_{2} = \\sqrt{\\sum_{i=1}^{n} x_{i}^{2}}\n",
        "$$\n",
        "\n",
        "Key properties:\n",
        "- Generalizes the notion of \"length\" to $n$-dimensional spaces\n",
        "- Invariant under rotations (important for many machine learning applications)\n",
        "- Computed via the `norm()` method in most linear algebra libraries\n"
      ],
      "metadata": {
        "id": "5SrWNiQbAtN-"
      }
    },
    {
      "cell_type": "code",
      "source": [
        "u = torch.tensor([3.0, -4.0])\n",
        "torch.norm(u)"
      ],
      "metadata": {
        "id": "DgQp2tpxAsoN",
        "outputId": "400fdff4-b9fd-4267-a4e1-f79a820fdddc",
        "colab": {
          "base_uri": "https://localhost:8080/"
        }
      },
      "execution_count": null,
      "outputs": [
        {
          "output_type": "execute_result",
          "data": {
            "text/plain": [
              "tensor(5.)"
            ]
          },
          "metadata": {},
          "execution_count": 59
        }
      ]
    },
    {
      "cell_type": "markdown",
      "source": [
        "## ℓ₁ Norm (Manhattan Norm)\n",
        "\n",
        "The **ℓ₁ norm** (also known as the *Manhattan distance* or *Taxicab norm*) sums the absolute values of a vector's elements:\n",
        "\n",
        "$$\n",
        "\\|\\mathbf{x}\\|_{1} = \\sum_{i=1}^{n} |x_{i}|\n",
        "$$\n",
        "\n",
        "### Key Characteristics:\n",
        "- **Robustness**: Less sensitive to outliers compared to the ℓ₂ norm\n",
        "- **Geometry**: Corresponds to the distance traveled along grid lines (like Manhattan's street grid)\n",
        "- **Computation**: Implemented by composing absolute value with summation\n",
        "\n",
        "### Comparison with ℓ₂ Norm:\n",
        "| Feature        | ℓ₁ Norm                     | ℓ₂ Norm                     |\n",
        "|----------------|----------------------------|----------------------------|\n",
        "| Outlier Sensitivity | Less sensitive         | More sensitive             |\n",
        "| Computation    | Sum of absolute values     | Square root of squared sums |\n",
        "| Sparsity       | Encourages sparse solutions | Produces smoother solutions |"
      ],
      "metadata": {
        "id": "K_pYOnNLBUJ8"
      }
    },
    {
      "cell_type": "code",
      "source": [
        "torch.abs(u).sum()"
      ],
      "metadata": {
        "id": "mFTHWbJe_kMY",
        "outputId": "079eefcf-8b11-4919-d5cf-13c3ad4e6751",
        "colab": {
          "base_uri": "https://localhost:8080/"
        }
      },
      "execution_count": null,
      "outputs": [
        {
          "output_type": "execute_result",
          "data": {
            "text/plain": [
              "tensor(7.)"
            ]
          },
          "metadata": {},
          "execution_count": 60
        }
      ]
    },
    {
      "cell_type": "markdown",
      "source": [
        "## General ℓₚ Norms and Matrix Norms\n",
        "\n",
        "### ℓₚ Norms (Vector Norms)\n",
        "Both the ℓ₂ and ℓ₁ norms are special cases of the general **ℓₚ norms**:\n",
        "\n",
        "$$\n",
        "\\|\\mathbf{x}\\|_{p} = \\left(\\sum_{i=1}^{n}|x_{i}|^{p}\\right)^{1/p}\n",
        "$$\n",
        "\n",
        "**Special Cases:**\n",
        "- *p = 1*: Manhattan norm (ℓ₁)\n",
        "- *p = 2*: Euclidean norm (ℓ₂)\n",
        "- *p → ∞*: Maximum norm (ℓ∞)\n",
        "\n",
        "---\n",
        "\n",
        "### Matrix Norms\n",
        "For matrices, we consider two important norms:\n",
        "\n",
        "#### 1. Frobenius Norm\n",
        "The simplest matrix norm, which treats the matrix as a vector:\n",
        "\n",
        "$$\n",
        "\\|\\mathbf{X}\\|_{\\mathrm{F}} = \\sqrt{\\sum_{i=1}^{m}\\sum_{j=1}^{n}x_{ij}^{2}}\n",
        "$$\n",
        "\n",
        "**Properties:**\n",
        "- Analogous to the ℓ₂ norm for vectors\n",
        "- Easy to compute\n",
        "- Invariant under orthogonal transformations\n",
        "\n",
        "#### 2. Spectral Norm (mentioned)\n",
        "Measures the maximum scaling a matrix can apply to any vector:\n",
        "\n",
        "$$\n",
        "\\|\\mathbf{X}\\|_2 = \\max_{\\mathbf{v} \\neq 0} \\frac{\\|\\mathbf{X}\\mathbf{v}\\|_2}{\\|\\mathbf{v}\\|_2}\n",
        "$$\n",
        "\n",
        "**Key Point:**  \n",
        "The Frobenius norm is typically computed using `np.linalg.norm` in NumPy, while the spectral norm requires singular value decomposition."
      ],
      "metadata": {
        "id": "nbX1IDRQBsjI"
      }
    },
    {
      "cell_type": "code",
      "source": [
        "torch.norm(torch.ones((4, 9)))"
      ],
      "metadata": {
        "id": "xswBUNmsCcDQ",
        "outputId": "a0eb4a4f-0666-46ea-d0e2-6fd9aa3be7ad",
        "colab": {
          "base_uri": "https://localhost:8080/"
        }
      },
      "execution_count": null,
      "outputs": [
        {
          "output_type": "execute_result",
          "data": {
            "text/plain": [
              "tensor(6.)"
            ]
          },
          "metadata": {},
          "execution_count": 61
        }
      ]
    },
    {
      "cell_type": "markdown",
      "source": [
        "#"
      ],
      "metadata": {
        "id": "R3f7p-k6Onol"
      }
    },
    {
      "cell_type": "markdown",
      "source": [
        "## Derivatives and Differentiation\n",
        "\n",
        "### Fundamental Concept\n",
        "A **derivative** measures how a function changes as its inputs change infinitesimally. In machine learning, derivatives tell us how adjusting parameters affects the loss function.\n",
        "\n",
        "### Formal Definition\n",
        "For a scalar function $f: \\mathbb{R} \\to \\mathbb{R}$, the derivative at point $x$ is:\n",
        "\n",
        "$$\n",
        "f'(x) = \\lim_{h \\to 0} \\frac{f(x+h) - f(x)}{h}\n",
        "$$\n",
        "\n",
        "**Key Components:**\n",
        "- $h$: Infinitesimal perturbation\n",
        "- Numerator: Change in function value\n",
        "- Limit: Behavior as $h$ approaches zero\n",
        "\n",
        "### Differentiability\n",
        "- A function is **differentiable at x** if $f'(x)$ exists\n",
        "- **Differentiable on a set** if derivatives exist for all points in that set\n",
        "- **Important Note**: Not all useful functions (e.g., accuracy, AUC) are differentiable\n",
        "\n",
        "### Practical Implications\n",
        "- Deep learning relies on differentiable surrogate functions\n",
        "- Derivatives enable optimization via gradient descent\n",
        "\n",
        "### Example: Quadratic Function\n",
        "Consider $u = f(x) = 3x^2 - 4x$:\n",
        "\n",
        "```python\n",
        "def f(x):\n",
        "    return 3*x**2 - 4*x\n",
        "\n",
        "# Derivative (computed manually)\n",
        "def df(x):\n",
        "    return 6*x - 4"
      ],
      "metadata": {
        "id": "4fp57MvKPkUU"
      }
    },
    {
      "cell_type": "code",
      "source": [
        "def f(x):\n",
        "  return 3 * x ** 2 - 4 * x"
      ],
      "metadata": {
        "id": "tT2JQjyrDAjG"
      },
      "execution_count": null,
      "outputs": []
    },
    {
      "cell_type": "code",
      "source": [
        "# Loop over step sizes h = 10^-1 to 10^-5\n",
        "for h in 10.0**np.arange(-1, -6, -1):\n",
        "    # Compute the finite difference approximation of the derivative at x = 1\n",
        "    # and print h and the result, both formatted to 5 decimal places\n",
        "    print(f'h={h:.5f}, numerical limit={(f(1+h)-f(1))/h:.5f}')\n"
      ],
      "metadata": {
        "id": "7UCyUmikP0fN",
        "outputId": "96353c70-ff14-499d-e089-34c5b289cdb3",
        "colab": {
          "base_uri": "https://localhost:8080/"
        }
      },
      "execution_count": null,
      "outputs": [
        {
          "output_type": "stream",
          "name": "stdout",
          "text": [
            "h=0.10000, numerical limit=2.30000\n",
            "h=0.01000, numerical limit=2.03000\n",
            "h=0.00100, numerical limit=2.00300\n",
            "h=0.00010, numerical limit=2.00030\n",
            "h=0.00001, numerical limit=2.00003\n"
          ]
        }
      ]
    },
    {
      "cell_type": "markdown",
      "source": [
        "## Derivative Notations and Rules\n",
        "\n",
        "### Equivalent Notations\n",
        "For $y = f(x)$, these all represent the derivative:\n",
        "\n",
        "$$\n",
        "f'(x) = y' = \\frac{dy}{dx} = \\frac{df}{dx} = \\frac{d}{dx}f(x) = Df(x) = D_x f(x)\n",
        "$$\n",
        "\n",
        "Where $\\frac{d}{dx}$ and $D$ are **differentiation operators**.\n",
        "\n",
        "---\n",
        "\n",
        "### Common Derivatives\n",
        "| Function | Derivative |\n",
        "|----------|------------|\n",
        "| $C$ (constant) | $0$ |\n",
        "| $x^n$ | $nx^{n-1}$ |\n",
        "| $e^x$ | $e^x$ |\n",
        "| $\\ln x$ | $x^{-1}$ |\n",
        "\n",
        "---\n",
        "\n",
        "### Differentiation Rules\n",
        "For differentiable functions $f(x)$, $g(x)$ and constant $C$:\n",
        "\n",
        "1. **Constant Multiple Rule**:\n",
        "   $$\\frac{d}{dx}[Cf(x)] = C\\frac{d}{dx}f(x)$$\n",
        "\n",
        "2. **Sum Rule**:\n",
        "   $$\\frac{d}{dx}[f(x) + g(x)] = \\frac{d}{dx}f(x) + \\frac{d}{dx}g(x)$$\n",
        "\n",
        "3. **Product Rule**:\n",
        "   $$\\frac{d}{dx}[f(x)g(x)] = f(x)\\frac{d}{dx}g(x) + g(x)\\frac{d}{dx}f(x)$$\n",
        "\n",
        "4. **Quotient Rule**:\n",
        "   $$\\frac{d}{dx}\\left[\\frac{f(x)}{g(x)}\\right] = \\frac{g(x)\\frac{d}{dx}f(x) - f(x)\\frac{d}{dx}g(x)}{g^2(x)}$$\n",
        "\n",
        "---\n",
        "\n",
        "### Example Application\n",
        "For $f(x) = 3x^2 - 4x$:\n"
      ],
      "metadata": {
        "id": "wdvQc6TXRnnt"
      }
    },
    {
      "cell_type": "code",
      "source": [
        "\n",
        "# Import the backend that controls inline display formatting\n",
        "from matplotlib_inline import backend_inline\n",
        "\n",
        "# Define a function to use SVG format for all Matplotlib plots\n",
        "def use_svg_display():\n",
        "    \"\"\"\n",
        "    This function configures matplotlib to display plots in SVG format.\n",
        "    SVG plots look sharper and scale better in notebooks, especially on high-DPI screens.\n",
        "\n",
        "    Note: In Google Colab, the '#@save' directive is not needed or allowed unless you're using the D2L (Dive into Deep Learning) book tools.\n",
        "    \"\"\"\n",
        "    backend_inline.set_matplotlib_formats('svg')  # Set plotting format to SVG"
      ],
      "metadata": {
        "id": "unA60dL7TatX"
      },
      "execution_count": 79,
      "outputs": []
    },
    {
      "cell_type": "code",
      "source": [
        "def set_figsize(figsize=(3.5, 2.5)):\n",
        "    \"\"\"Set the figure size for matplotlib plots.\"\"\"\n",
        "    # Enable SVG format for crisper plots\n",
        "    d2l.use_svg_display()\n",
        "    # Set the default figure size in matplotlib’s rcParams\n",
        "    d2l.plt.rcParams['figure.figsize'] = figsize"
      ],
      "metadata": {
        "id": "_Mr84vrbXH-c"
      },
      "execution_count": 80,
      "outputs": []
    },
    {
      "cell_type": "code",
      "source": [
        "def set_axes(axes, xlabel, ylabel, xlim, ylim, xscale, yscale, legend):\n",
        "    \"\"\"Set the axes for matplotlib.\"\"\"\n",
        "\n",
        "    # Set the label of the x-axis\n",
        "    axes.set_xlabel(xlabel)\n",
        "    # Set the label of the y-axis\n",
        "    axes.set_ylabel(ylabel)\n",
        "\n",
        "    # Set the scale of the x-axis (e.g., 'linear', 'log')\n",
        "    axes.set_xscale(xscale)\n",
        "    # Set the scale of the y-axis (e.g., 'linear', 'log')\n",
        "    axes.set_yscale(yscale)\n",
        "\n",
        "    # Set the limits of the x-axis (tuple: (xmin, xmax))\n",
        "    axes.set_xlim(xlim)\n",
        "    # Set the limits of the y-axis (tuple: (ymin, ymax))\n",
        "    axes.set_ylim(ylim)\n",
        "\n",
        "    # If a legend is provided, display it on the plot\n",
        "    if legend:\n",
        "        axes.legend(legend)\n",
        "\n",
        "    # Enable grid lines on the plot for better readability\n",
        "    axes.grid()\n"
      ],
      "metadata": {
        "id": "eNoh7r7eXfph"
      },
      "execution_count": 83,
      "outputs": []
    },
    {
      "cell_type": "code",
      "source": [
        "def plot(X, Y=None, xlabel=None, ylabel=None, legend=[],\n",
        "         xlim=None, ylim=None, xscale='linear', yscale='linear',\n",
        "         fmts=('-', 'm--', 'g-.', 'r:'), figsize=(3.5, 2.5), axes=None):\n",
        "    \"\"\"Plot data points.\"\"\"\n",
        "\n",
        "    # Helper function: returns True if X has only one axis (1D tensor or list)\n",
        "    def has_one_axis(X):\n",
        "        return (hasattr(X, \"ndim\") and X.ndim == 1 or\n",
        "                isinstance(X, list) and not hasattr(X[0], \"__len__\"))\n",
        "\n",
        "    # Convert X to a list of lists if it's 1D\n",
        "    if has_one_axis(X):\n",
        "        X = [X]\n",
        "\n",
        "    # If only Y is provided (no X), assume X is just indices [0, 1, 2, ...]\n",
        "    if Y is None:\n",
        "        X, Y = [[]] * len(X), X\n",
        "    # If Y is 1D, convert it into a list\n",
        "    elif has_one_axis(Y):\n",
        "        Y = [Y]\n",
        "\n",
        "    # Match the number of X and Y series (e.g., 1 X for each Y)\n",
        "    if len(X) != len(Y):\n",
        "        X = X * len(Y)\n",
        "\n",
        "    # Set the figure size\n",
        "    set_figsize(figsize)\n",
        "\n",
        "    # Use current axes if none are provided\n",
        "    if axes is None:\n",
        "        axes = d2l.plt.gca()\n",
        "    # Clear the axes before plotting\n",
        "    axes.cla()\n",
        "\n",
        "    # Plot each (x, y) pair with corresponding format string from fmts\n",
        "    for x, y, fmt in zip(X, Y, fmts):\n",
        "        # If x is empty, use just y (default x will be [0, 1, 2, ...])\n",
        "        axes.plot(x, y, fmt) if len(x) else axes.plot(y, fmt)\n",
        "\n",
        "    # Set labels, limits, scale, and legend\n",
        "    set_axes(axes, xlabel, ylabel, xlim, ylim, xscale, yscale, legend)"
      ],
      "metadata": {
        "id": "-D1B5lttZZPs"
      },
      "execution_count": 84,
      "outputs": []
    },
    {
      "cell_type": "code",
      "source": [
        "x = np.arange(0, 3, 0.1)\n",
        "plot(x, [f(x), 2 * x - 3], 'x', 'f(x)', legend=['f(x)', 'Tangent line (x=1)'])"
      ],
      "metadata": {
        "colab": {
          "base_uri": "https://localhost:8080/",
          "height": 266
        },
        "id": "WGMiPE4AZjMr",
        "outputId": "9fd6d09f-a91e-49d3-c652-71b3a5b95127"
      },
      "execution_count": 85,
      "outputs": [
        {
          "output_type": "display_data",
          "data": {
            "text/plain": [
              "<Figure size 350x250 with 1 Axes>"
            ],
            "image/svg+xml": "<?xml version=\"1.0\" encoding=\"utf-8\" standalone=\"no\"?>\n<!DOCTYPE svg PUBLIC \"-//W3C//DTD SVG 1.1//EN\"\n  \"http://www.w3.org/Graphics/SVG/1.1/DTD/svg11.dtd\">\n<svg xmlns:xlink=\"http://www.w3.org/1999/xlink\" width=\"243.529359pt\" height=\"183.35625pt\" viewBox=\"0 0 243.529359 183.35625\" xmlns=\"http://www.w3.org/2000/svg\" version=\"1.1\">\n <metadata>\n  <rdf:RDF xmlns:dc=\"http://purl.org/dc/elements/1.1/\" xmlns:cc=\"http://creativecommons.org/ns#\" xmlns:rdf=\"http://www.w3.org/1999/02/22-rdf-syntax-ns#\">\n   <cc:Work>\n    <dc:type rdf:resource=\"http://purl.org/dc/dcmitype/StillImage\"/>\n    <dc:date>2025-05-17T08:40:25.236642</dc:date>\n    <dc:format>image/svg+xml</dc:format>\n    <dc:creator>\n     <cc:Agent>\n      <dc:title>Matplotlib v3.7.2, https://matplotlib.org/</dc:title>\n     </cc:Agent>\n    </dc:creator>\n   </cc:Work>\n  </rdf:RDF>\n </metadata>\n <defs>\n  <style type=\"text/css\">*{stroke-linejoin: round; stroke-linecap: butt}</style>\n </defs>\n <g id=\"figure_1\">\n  <g id=\"patch_1\">\n   <path d=\"M 0 183.35625 \nL 243.529359 183.35625 \nL 243.529359 0 \nL 0 0 \nz\n\" style=\"fill: #ffffff\"/>\n  </g>\n  <g id=\"axes_1\">\n   <g id=\"patch_2\">\n    <path d=\"M 40.603125 145.8 \nL 235.903125 145.8 \nL 235.903125 7.2 \nL 40.603125 7.2 \nz\n\" style=\"fill: #ffffff\"/>\n   </g>\n   <g id=\"matplotlib.axis_1\">\n    <g id=\"xtick_1\">\n     <g id=\"line2d_1\">\n      <path d=\"M 49.480398 145.8 \nL 49.480398 7.2 \n\" clip-path=\"url(#pff38c32be8)\" style=\"fill: none; stroke: #b0b0b0; stroke-width: 0.8; stroke-linecap: square\"/>\n     </g>\n     <g id=\"line2d_2\">\n      <defs>\n       <path id=\"m421222d3c5\" d=\"M 0 0 \nL 0 3.5 \n\" style=\"stroke: #000000; stroke-width: 0.8\"/>\n      </defs>\n      <g>\n       <use xlink:href=\"#m421222d3c5\" x=\"49.480398\" y=\"145.8\" style=\"stroke: #000000; stroke-width: 0.8\"/>\n      </g>\n     </g>\n     <g id=\"text_1\">\n      <!-- 0 -->\n      <g transform=\"translate(46.299148 160.398438) scale(0.1 -0.1)\">\n       <defs>\n        <path id=\"DejaVuSans-30\" d=\"M 2034 4250 \nQ 1547 4250 1301 3770 \nQ 1056 3291 1056 2328 \nQ 1056 1369 1301 889 \nQ 1547 409 2034 409 \nQ 2525 409 2770 889 \nQ 3016 1369 3016 2328 \nQ 3016 3291 2770 3770 \nQ 2525 4250 2034 4250 \nz\nM 2034 4750 \nQ 2819 4750 3233 4129 \nQ 3647 3509 3647 2328 \nQ 3647 1150 3233 529 \nQ 2819 -91 2034 -91 \nQ 1250 -91 836 529 \nQ 422 1150 422 2328 \nQ 422 3509 836 4129 \nQ 1250 4750 2034 4750 \nz\n\" transform=\"scale(0.015625)\"/>\n       </defs>\n       <use xlink:href=\"#DejaVuSans-30\"/>\n      </g>\n     </g>\n    </g>\n    <g id=\"xtick_2\">\n     <g id=\"line2d_3\">\n      <path d=\"M 110.702968 145.8 \nL 110.702968 7.2 \n\" clip-path=\"url(#pff38c32be8)\" style=\"fill: none; stroke: #b0b0b0; stroke-width: 0.8; stroke-linecap: square\"/>\n     </g>\n     <g id=\"line2d_4\">\n      <g>\n       <use xlink:href=\"#m421222d3c5\" x=\"110.702968\" y=\"145.8\" style=\"stroke: #000000; stroke-width: 0.8\"/>\n      </g>\n     </g>\n     <g id=\"text_2\">\n      <!-- 1 -->\n      <g transform=\"translate(107.521718 160.398438) scale(0.1 -0.1)\">\n       <defs>\n        <path id=\"DejaVuSans-31\" d=\"M 794 531 \nL 1825 531 \nL 1825 4091 \nL 703 3866 \nL 703 4441 \nL 1819 4666 \nL 2450 4666 \nL 2450 531 \nL 3481 531 \nL 3481 0 \nL 794 0 \nL 794 531 \nz\n\" transform=\"scale(0.015625)\"/>\n       </defs>\n       <use xlink:href=\"#DejaVuSans-31\"/>\n      </g>\n     </g>\n    </g>\n    <g id=\"xtick_3\">\n     <g id=\"line2d_5\">\n      <path d=\"M 171.925539 145.8 \nL 171.925539 7.2 \n\" clip-path=\"url(#pff38c32be8)\" style=\"fill: none; stroke: #b0b0b0; stroke-width: 0.8; stroke-linecap: square\"/>\n     </g>\n     <g id=\"line2d_6\">\n      <g>\n       <use xlink:href=\"#m421222d3c5\" x=\"171.925539\" y=\"145.8\" style=\"stroke: #000000; stroke-width: 0.8\"/>\n      </g>\n     </g>\n     <g id=\"text_3\">\n      <!-- 2 -->\n      <g transform=\"translate(168.744289 160.398438) scale(0.1 -0.1)\">\n       <defs>\n        <path id=\"DejaVuSans-32\" d=\"M 1228 531 \nL 3431 531 \nL 3431 0 \nL 469 0 \nL 469 531 \nQ 828 903 1448 1529 \nQ 2069 2156 2228 2338 \nQ 2531 2678 2651 2914 \nQ 2772 3150 2772 3378 \nQ 2772 3750 2511 3984 \nQ 2250 4219 1831 4219 \nQ 1534 4219 1204 4116 \nQ 875 4013 500 3803 \nL 500 4441 \nQ 881 4594 1212 4672 \nQ 1544 4750 1819 4750 \nQ 2544 4750 2975 4387 \nQ 3406 4025 3406 3419 \nQ 3406 3131 3298 2873 \nQ 3191 2616 2906 2266 \nQ 2828 2175 2409 1742 \nQ 1991 1309 1228 531 \nz\n\" transform=\"scale(0.015625)\"/>\n       </defs>\n       <use xlink:href=\"#DejaVuSans-32\"/>\n      </g>\n     </g>\n    </g>\n    <g id=\"xtick_4\">\n     <g id=\"line2d_7\">\n      <path d=\"M 233.148109 145.8 \nL 233.148109 7.2 \n\" clip-path=\"url(#pff38c32be8)\" style=\"fill: none; stroke: #b0b0b0; stroke-width: 0.8; stroke-linecap: square\"/>\n     </g>\n     <g id=\"line2d_8\">\n      <g>\n       <use xlink:href=\"#m421222d3c5\" x=\"233.148109\" y=\"145.8\" style=\"stroke: #000000; stroke-width: 0.8\"/>\n      </g>\n     </g>\n     <g id=\"text_4\">\n      <!-- 3 -->\n      <g transform=\"translate(229.966859 160.398438) scale(0.1 -0.1)\">\n       <defs>\n        <path id=\"DejaVuSans-33\" d=\"M 2597 2516 \nQ 3050 2419 3304 2112 \nQ 3559 1806 3559 1356 \nQ 3559 666 3084 287 \nQ 2609 -91 1734 -91 \nQ 1441 -91 1130 -33 \nQ 819 25 488 141 \nL 488 750 \nQ 750 597 1062 519 \nQ 1375 441 1716 441 \nQ 2309 441 2620 675 \nQ 2931 909 2931 1356 \nQ 2931 1769 2642 2001 \nQ 2353 2234 1838 2234 \nL 1294 2234 \nL 1294 2753 \nL 1863 2753 \nQ 2328 2753 2575 2939 \nQ 2822 3125 2822 3475 \nQ 2822 3834 2567 4026 \nQ 2313 4219 1838 4219 \nQ 1578 4219 1281 4162 \nQ 984 4106 628 3988 \nL 628 4550 \nQ 988 4650 1302 4700 \nQ 1616 4750 1894 4750 \nQ 2613 4750 3031 4423 \nQ 3450 4097 3450 3541 \nQ 3450 3153 3228 2886 \nQ 3006 2619 2597 2516 \nz\n\" transform=\"scale(0.015625)\"/>\n       </defs>\n       <use xlink:href=\"#DejaVuSans-33\"/>\n      </g>\n     </g>\n    </g>\n    <g id=\"text_5\">\n     <!-- x -->\n     <g transform=\"translate(135.29375 174.076563) scale(0.1 -0.1)\">\n      <defs>\n       <path id=\"DejaVuSans-78\" d=\"M 3513 3500 \nL 2247 1797 \nL 3578 0 \nL 2900 0 \nL 1881 1375 \nL 863 0 \nL 184 0 \nL 1544 1831 \nL 300 3500 \nL 978 3500 \nL 1906 2253 \nL 2834 3500 \nL 3513 3500 \nz\n\" transform=\"scale(0.015625)\"/>\n      </defs>\n      <use xlink:href=\"#DejaVuSans-78\"/>\n     </g>\n    </g>\n   </g>\n   <g id=\"matplotlib.axis_2\">\n    <g id=\"ytick_1\">\n     <g id=\"line2d_9\">\n      <path d=\"M 40.603125 116.769994 \nL 235.903125 116.769994 \n\" clip-path=\"url(#pff38c32be8)\" style=\"fill: none; stroke: #b0b0b0; stroke-width: 0.8; stroke-linecap: square\"/>\n     </g>\n     <g id=\"line2d_10\">\n      <defs>\n       <path id=\"m3beda70789\" d=\"M 0 0 \nL -3.5 0 \n\" style=\"stroke: #000000; stroke-width: 0.8\"/>\n      </defs>\n      <g>\n       <use xlink:href=\"#m3beda70789\" x=\"40.603125\" y=\"116.769994\" style=\"stroke: #000000; stroke-width: 0.8\"/>\n      </g>\n     </g>\n     <g id=\"text_6\">\n      <!-- 0 -->\n      <g transform=\"translate(27.240625 120.569213) scale(0.1 -0.1)\">\n       <use xlink:href=\"#DejaVuSans-30\"/>\n      </g>\n     </g>\n    </g>\n    <g id=\"ytick_2\">\n     <g id=\"line2d_11\">\n      <path d=\"M 40.603125 78.886651 \nL 235.903125 78.886651 \n\" clip-path=\"url(#pff38c32be8)\" style=\"fill: none; stroke: #b0b0b0; stroke-width: 0.8; stroke-linecap: square\"/>\n     </g>\n     <g id=\"line2d_12\">\n      <g>\n       <use xlink:href=\"#m3beda70789\" x=\"40.603125\" y=\"78.886651\" style=\"stroke: #000000; stroke-width: 0.8\"/>\n      </g>\n     </g>\n     <g id=\"text_7\">\n      <!-- 5 -->\n      <g transform=\"translate(27.240625 82.685869) scale(0.1 -0.1)\">\n       <defs>\n        <path id=\"DejaVuSans-35\" d=\"M 691 4666 \nL 3169 4666 \nL 3169 4134 \nL 1269 4134 \nL 1269 2991 \nQ 1406 3038 1543 3061 \nQ 1681 3084 1819 3084 \nQ 2600 3084 3056 2656 \nQ 3513 2228 3513 1497 \nQ 3513 744 3044 326 \nQ 2575 -91 1722 -91 \nQ 1428 -91 1123 -41 \nQ 819 9 494 109 \nL 494 744 \nQ 775 591 1075 516 \nQ 1375 441 1709 441 \nQ 2250 441 2565 725 \nQ 2881 1009 2881 1497 \nQ 2881 1984 2565 2268 \nQ 2250 2553 1709 2553 \nQ 1456 2553 1204 2497 \nQ 953 2441 691 2322 \nL 691 4666 \nz\n\" transform=\"scale(0.015625)\"/>\n       </defs>\n       <use xlink:href=\"#DejaVuSans-35\"/>\n      </g>\n     </g>\n    </g>\n    <g id=\"ytick_3\">\n     <g id=\"line2d_13\">\n      <path d=\"M 40.603125 41.003307 \nL 235.903125 41.003307 \n\" clip-path=\"url(#pff38c32be8)\" style=\"fill: none; stroke: #b0b0b0; stroke-width: 0.8; stroke-linecap: square\"/>\n     </g>\n     <g id=\"line2d_14\">\n      <g>\n       <use xlink:href=\"#m3beda70789\" x=\"40.603125\" y=\"41.003307\" style=\"stroke: #000000; stroke-width: 0.8\"/>\n      </g>\n     </g>\n     <g id=\"text_8\">\n      <!-- 10 -->\n      <g transform=\"translate(20.878125 44.802526) scale(0.1 -0.1)\">\n       <use xlink:href=\"#DejaVuSans-31\"/>\n       <use xlink:href=\"#DejaVuSans-30\" x=\"63.623047\"/>\n      </g>\n     </g>\n    </g>\n    <g id=\"text_9\">\n     <!-- f(x) -->\n     <g transform=\"translate(14.798437 85.121094) rotate(-90) scale(0.1 -0.1)\">\n      <defs>\n       <path id=\"DejaVuSans-66\" d=\"M 2375 4863 \nL 2375 4384 \nL 1825 4384 \nQ 1516 4384 1395 4259 \nQ 1275 4134 1275 3809 \nL 1275 3500 \nL 2222 3500 \nL 2222 3053 \nL 1275 3053 \nL 1275 0 \nL 697 0 \nL 697 3053 \nL 147 3053 \nL 147 3500 \nL 697 3500 \nL 697 3744 \nQ 697 4328 969 4595 \nQ 1241 4863 1831 4863 \nL 2375 4863 \nz\n\" transform=\"scale(0.015625)\"/>\n       <path id=\"DejaVuSans-28\" d=\"M 1984 4856 \nQ 1566 4138 1362 3434 \nQ 1159 2731 1159 2009 \nQ 1159 1288 1364 580 \nQ 1569 -128 1984 -844 \nL 1484 -844 \nQ 1016 -109 783 600 \nQ 550 1309 550 2009 \nQ 550 2706 781 3412 \nQ 1013 4119 1484 4856 \nL 1984 4856 \nz\n\" transform=\"scale(0.015625)\"/>\n       <path id=\"DejaVuSans-29\" d=\"M 513 4856 \nL 1013 4856 \nQ 1481 4119 1714 3412 \nQ 1947 2706 1947 2009 \nQ 1947 1309 1714 600 \nQ 1481 -109 1013 -844 \nL 513 -844 \nQ 928 -128 1133 580 \nQ 1338 1288 1338 2009 \nQ 1338 2731 1133 3434 \nQ 928 4138 513 4856 \nz\n\" transform=\"scale(0.015625)\"/>\n      </defs>\n      <use xlink:href=\"#DejaVuSans-66\"/>\n      <use xlink:href=\"#DejaVuSans-28\" x=\"35.205078\"/>\n      <use xlink:href=\"#DejaVuSans-78\" x=\"74.21875\"/>\n      <use xlink:href=\"#DejaVuSans-29\" x=\"133.398438\"/>\n     </g>\n    </g>\n   </g>\n   <g id=\"line2d_15\">\n    <path d=\"M 49.480398 116.769994 \nL 55.602655 119.573361 \nL 61.724912 121.922129 \nL 67.847169 123.816296 \nL 73.969426 125.255863 \nL 80.091683 126.24083 \nL 86.21394 126.771197 \nL 92.336197 126.846963 \nL 98.458454 126.46813 \nL 104.580711 125.634696 \nL 110.702968 124.346663 \nL 116.825225 122.604029 \nL 122.947482 120.406795 \nL 129.069739 117.754961 \nL 135.191996 114.648527 \nL 141.314254 111.087492 \nL 147.436511 107.071858 \nL 153.558768 102.601624 \nL 159.681025 97.676789 \nL 165.803282 92.297354 \nL 171.925539 86.463319 \nL 178.047796 80.174684 \nL 184.170053 73.431449 \nL 190.29231 66.233614 \nL 196.414567 58.581179 \nL 202.536824 50.474143 \nL 208.659081 41.912508 \nL 214.781338 32.896272 \nL 220.903595 23.425436 \nL 227.025852 13.5 \n\" clip-path=\"url(#pff38c32be8)\" style=\"fill: none; stroke: #1f77b4; stroke-width: 1.5; stroke-linecap: square\"/>\n   </g>\n   <g id=\"line2d_16\">\n    <path d=\"M 49.480398 139.5 \nL 55.602655 137.984666 \nL 61.724912 136.469333 \nL 67.847169 134.953999 \nL 73.969426 133.438665 \nL 80.091683 131.923331 \nL 86.21394 130.407998 \nL 92.336197 128.892664 \nL 98.458454 127.37733 \nL 104.580711 125.861996 \nL 110.702968 124.346663 \nL 116.825225 122.831329 \nL 122.947482 121.315995 \nL 129.069739 119.800661 \nL 135.191996 118.285328 \nL 141.314254 116.769994 \nL 147.436511 115.25466 \nL 153.558768 113.739327 \nL 159.681025 112.223993 \nL 165.803282 110.708659 \nL 171.925539 109.193325 \nL 178.047796 107.677992 \nL 184.170053 106.162658 \nL 190.29231 104.647324 \nL 196.414567 103.13199 \nL 202.536824 101.616657 \nL 208.659081 100.101323 \nL 214.781338 98.585989 \nL 220.903595 97.070655 \nL 227.025852 95.555322 \n\" clip-path=\"url(#pff38c32be8)\" style=\"fill: none; stroke-dasharray: 5.55,2.4; stroke-dashoffset: 0; stroke: #bf00bf; stroke-width: 1.5\"/>\n   </g>\n   <g id=\"patch_3\">\n    <path d=\"M 40.603125 145.8 \nL 40.603125 7.2 \n\" style=\"fill: none; stroke: #000000; stroke-width: 0.8; stroke-linejoin: miter; stroke-linecap: square\"/>\n   </g>\n   <g id=\"patch_4\">\n    <path d=\"M 235.903125 145.8 \nL 235.903125 7.2 \n\" style=\"fill: none; stroke: #000000; stroke-width: 0.8; stroke-linejoin: miter; stroke-linecap: square\"/>\n   </g>\n   <g id=\"patch_5\">\n    <path d=\"M 40.603125 145.8 \nL 235.903125 145.8 \n\" style=\"fill: none; stroke: #000000; stroke-width: 0.8; stroke-linejoin: miter; stroke-linecap: square\"/>\n   </g>\n   <g id=\"patch_6\">\n    <path d=\"M 40.603125 7.2 \nL 235.903125 7.2 \n\" style=\"fill: none; stroke: #000000; stroke-width: 0.8; stroke-linejoin: miter; stroke-linecap: square\"/>\n   </g>\n   <g id=\"legend_1\">\n    <g id=\"patch_7\">\n     <path d=\"M 47.603125 44.55625 \nL 172.153125 44.55625 \nQ 174.153125 44.55625 174.153125 42.55625 \nL 174.153125 14.2 \nQ 174.153125 12.2 172.153125 12.2 \nL 47.603125 12.2 \nQ 45.603125 12.2 45.603125 14.2 \nL 45.603125 42.55625 \nQ 45.603125 44.55625 47.603125 44.55625 \nz\n\" style=\"fill: #ffffff; opacity: 0.8; stroke: #cccccc; stroke-linejoin: miter\"/>\n    </g>\n    <g id=\"line2d_17\">\n     <path d=\"M 49.603125 20.298438 \nL 59.603125 20.298438 \nL 69.603125 20.298438 \n\" style=\"fill: none; stroke: #1f77b4; stroke-width: 1.5; stroke-linecap: square\"/>\n    </g>\n    <g id=\"text_10\">\n     <!-- f(x) -->\n     <g transform=\"translate(77.603125 23.798438) scale(0.1 -0.1)\">\n      <use xlink:href=\"#DejaVuSans-66\"/>\n      <use xlink:href=\"#DejaVuSans-28\" x=\"35.205078\"/>\n      <use xlink:href=\"#DejaVuSans-78\" x=\"74.21875\"/>\n      <use xlink:href=\"#DejaVuSans-29\" x=\"133.398438\"/>\n     </g>\n    </g>\n    <g id=\"line2d_18\">\n     <path d=\"M 49.603125 34.976562 \nL 59.603125 34.976562 \nL 69.603125 34.976562 \n\" style=\"fill: none; stroke-dasharray: 5.55,2.4; stroke-dashoffset: 0; stroke: #bf00bf; stroke-width: 1.5\"/>\n    </g>\n    <g id=\"text_11\">\n     <!-- Tangent line (x=1) -->\n     <g transform=\"translate(77.603125 38.476562) scale(0.1 -0.1)\">\n      <defs>\n       <path id=\"DejaVuSans-54\" d=\"M -19 4666 \nL 3928 4666 \nL 3928 4134 \nL 2272 4134 \nL 2272 0 \nL 1638 0 \nL 1638 4134 \nL -19 4134 \nL -19 4666 \nz\n\" transform=\"scale(0.015625)\"/>\n       <path id=\"DejaVuSans-61\" d=\"M 2194 1759 \nQ 1497 1759 1228 1600 \nQ 959 1441 959 1056 \nQ 959 750 1161 570 \nQ 1363 391 1709 391 \nQ 2188 391 2477 730 \nQ 2766 1069 2766 1631 \nL 2766 1759 \nL 2194 1759 \nz\nM 3341 1997 \nL 3341 0 \nL 2766 0 \nL 2766 531 \nQ 2569 213 2275 61 \nQ 1981 -91 1556 -91 \nQ 1019 -91 701 211 \nQ 384 513 384 1019 \nQ 384 1609 779 1909 \nQ 1175 2209 1959 2209 \nL 2766 2209 \nL 2766 2266 \nQ 2766 2663 2505 2880 \nQ 2244 3097 1772 3097 \nQ 1472 3097 1187 3025 \nQ 903 2953 641 2809 \nL 641 3341 \nQ 956 3463 1253 3523 \nQ 1550 3584 1831 3584 \nQ 2591 3584 2966 3190 \nQ 3341 2797 3341 1997 \nz\n\" transform=\"scale(0.015625)\"/>\n       <path id=\"DejaVuSans-6e\" d=\"M 3513 2113 \nL 3513 0 \nL 2938 0 \nL 2938 2094 \nQ 2938 2591 2744 2837 \nQ 2550 3084 2163 3084 \nQ 1697 3084 1428 2787 \nQ 1159 2491 1159 1978 \nL 1159 0 \nL 581 0 \nL 581 3500 \nL 1159 3500 \nL 1159 2956 \nQ 1366 3272 1645 3428 \nQ 1925 3584 2291 3584 \nQ 2894 3584 3203 3211 \nQ 3513 2838 3513 2113 \nz\n\" transform=\"scale(0.015625)\"/>\n       <path id=\"DejaVuSans-67\" d=\"M 2906 1791 \nQ 2906 2416 2648 2759 \nQ 2391 3103 1925 3103 \nQ 1463 3103 1205 2759 \nQ 947 2416 947 1791 \nQ 947 1169 1205 825 \nQ 1463 481 1925 481 \nQ 2391 481 2648 825 \nQ 2906 1169 2906 1791 \nz\nM 3481 434 \nQ 3481 -459 3084 -895 \nQ 2688 -1331 1869 -1331 \nQ 1566 -1331 1297 -1286 \nQ 1028 -1241 775 -1147 \nL 775 -588 \nQ 1028 -725 1275 -790 \nQ 1522 -856 1778 -856 \nQ 2344 -856 2625 -561 \nQ 2906 -266 2906 331 \nL 2906 616 \nQ 2728 306 2450 153 \nQ 2172 0 1784 0 \nQ 1141 0 747 490 \nQ 353 981 353 1791 \nQ 353 2603 747 3093 \nQ 1141 3584 1784 3584 \nQ 2172 3584 2450 3431 \nQ 2728 3278 2906 2969 \nL 2906 3500 \nL 3481 3500 \nL 3481 434 \nz\n\" transform=\"scale(0.015625)\"/>\n       <path id=\"DejaVuSans-65\" d=\"M 3597 1894 \nL 3597 1613 \nL 953 1613 \nQ 991 1019 1311 708 \nQ 1631 397 2203 397 \nQ 2534 397 2845 478 \nQ 3156 559 3463 722 \nL 3463 178 \nQ 3153 47 2828 -22 \nQ 2503 -91 2169 -91 \nQ 1331 -91 842 396 \nQ 353 884 353 1716 \nQ 353 2575 817 3079 \nQ 1281 3584 2069 3584 \nQ 2775 3584 3186 3129 \nQ 3597 2675 3597 1894 \nz\nM 3022 2063 \nQ 3016 2534 2758 2815 \nQ 2500 3097 2075 3097 \nQ 1594 3097 1305 2825 \nQ 1016 2553 972 2059 \nL 3022 2063 \nz\n\" transform=\"scale(0.015625)\"/>\n       <path id=\"DejaVuSans-74\" d=\"M 1172 4494 \nL 1172 3500 \nL 2356 3500 \nL 2356 3053 \nL 1172 3053 \nL 1172 1153 \nQ 1172 725 1289 603 \nQ 1406 481 1766 481 \nL 2356 481 \nL 2356 0 \nL 1766 0 \nQ 1100 0 847 248 \nQ 594 497 594 1153 \nL 594 3053 \nL 172 3053 \nL 172 3500 \nL 594 3500 \nL 594 4494 \nL 1172 4494 \nz\n\" transform=\"scale(0.015625)\"/>\n       <path id=\"DejaVuSans-20\" transform=\"scale(0.015625)\"/>\n       <path id=\"DejaVuSans-6c\" d=\"M 603 4863 \nL 1178 4863 \nL 1178 0 \nL 603 0 \nL 603 4863 \nz\n\" transform=\"scale(0.015625)\"/>\n       <path id=\"DejaVuSans-69\" d=\"M 603 3500 \nL 1178 3500 \nL 1178 0 \nL 603 0 \nL 603 3500 \nz\nM 603 4863 \nL 1178 4863 \nL 1178 4134 \nL 603 4134 \nL 603 4863 \nz\n\" transform=\"scale(0.015625)\"/>\n       <path id=\"DejaVuSans-3d\" d=\"M 678 2906 \nL 4684 2906 \nL 4684 2381 \nL 678 2381 \nL 678 2906 \nz\nM 678 1631 \nL 4684 1631 \nL 4684 1100 \nL 678 1100 \nL 678 1631 \nz\n\" transform=\"scale(0.015625)\"/>\n      </defs>\n      <use xlink:href=\"#DejaVuSans-54\"/>\n      <use xlink:href=\"#DejaVuSans-61\" x=\"44.583984\"/>\n      <use xlink:href=\"#DejaVuSans-6e\" x=\"105.863281\"/>\n      <use xlink:href=\"#DejaVuSans-67\" x=\"169.242188\"/>\n      <use xlink:href=\"#DejaVuSans-65\" x=\"232.71875\"/>\n      <use xlink:href=\"#DejaVuSans-6e\" x=\"294.242188\"/>\n      <use xlink:href=\"#DejaVuSans-74\" x=\"357.621094\"/>\n      <use xlink:href=\"#DejaVuSans-20\" x=\"396.830078\"/>\n      <use xlink:href=\"#DejaVuSans-6c\" x=\"428.617188\"/>\n      <use xlink:href=\"#DejaVuSans-69\" x=\"456.400391\"/>\n      <use xlink:href=\"#DejaVuSans-6e\" x=\"484.183594\"/>\n      <use xlink:href=\"#DejaVuSans-65\" x=\"547.5625\"/>\n      <use xlink:href=\"#DejaVuSans-20\" x=\"609.085938\"/>\n      <use xlink:href=\"#DejaVuSans-28\" x=\"640.873047\"/>\n      <use xlink:href=\"#DejaVuSans-78\" x=\"679.886719\"/>\n      <use xlink:href=\"#DejaVuSans-3d\" x=\"739.066406\"/>\n      <use xlink:href=\"#DejaVuSans-31\" x=\"822.855469\"/>\n      <use xlink:href=\"#DejaVuSans-29\" x=\"886.478516\"/>\n     </g>\n    </g>\n   </g>\n  </g>\n </g>\n <defs>\n  <clipPath id=\"pff38c32be8\">\n   <rect x=\"40.603125\" y=\"7.2\" width=\"195.3\" height=\"138.6\"/>\n  </clipPath>\n </defs>\n</svg>\n"
          },
          "metadata": {}
        }
      ]
    },
    {
      "cell_type": "markdown",
      "source": [
        "## Chain Rule in Calculus\n",
        "\n",
        "### Single-Variable Case\n",
        "For nested functions $y = f(g(x))$ where both $f(u)$ and $u = g(x)$ are differentiable:\n",
        "\n",
        "$$\n",
        "\\frac{dy}{dx} = \\frac{dy}{du} \\cdot \\frac{du}{dx}\n",
        "$$\n",
        "\n",
        "**Interpretation**: The derivative of a composition is the product of derivatives at each level.\n",
        "\n",
        "---\n",
        "\n",
        "### Multivariable Generalization\n",
        "For $y = f(\\mathbf{u})$ where $\\mathbf{u} = g(\\mathbf{x})$ with:\n",
        "- $\\mathbf{u} = (u_1, ..., u_m)$\n",
        "- $\\mathbf{x} = (x_1, ..., x_n)$\n",
        "\n",
        "The partial derivative with respect to $x_i$ becomes:\n",
        "\n",
        "$$\n",
        "\\frac{\\partial y}{\\partial x_i} = \\sum_{j=1}^m \\frac{\\partial y}{\\partial u_j} \\frac{\\partial u_j}{\\partial x_i}\n",
        "$$\n",
        "\n",
        "In matrix form:\n",
        "\n",
        "$$\n",
        "\\nabla_{\\mathbf{x}} y = \\mathbf{J} \\nabla_{\\mathbf{u}} y\n",
        "$$\n",
        "\n",
        "Where:\n",
        "- $\\mathbf{J} \\in \\mathbb{R}^{n \\times m}$ is the Jacobian matrix containing $\\frac{\\partial u_j}{\\partial x_i}$\n",
        "- $\\nabla$ denotes the gradient operator\n",
        "\n",
        "---\n",
        "\n",
        "### Deep Learning Significance\n",
        "1. **Key Application**: Enables backpropagation in neural networks\n",
        "2. **Computational Aspect**: Requires efficient vector-matrix products\n",
        "3. **Implementation**: Automatic differentiation frameworks handle chain rule automatically\n",
        "\n",
        "```python\n",
        "# Pseudo-code for chain rule in autograd systems\n",
        "def backward(ctx, grad_output):\n",
        "    # grad_output is ∂L/∂y\n",
        "    u, = ctx.saved_tensors\n",
        "    grad_u = grad_output * df_du(u)  # Single-variable chain rule\n",
        "    grad_x = grad_u * dg_dx(x)      # Continue propagating back\n",
        "    return grad_x"
      ],
      "metadata": {
        "id": "QGp17Tc0cKDB"
      }
    },
    {
      "cell_type": "markdown",
      "source": [
        "## Partial Derivatives and Gradients\n",
        "\n",
        "### Partial Derivatives\n",
        "For a multivariate function $y = f(x_1, x_2, \\ldots, x_n)$, the partial derivative with respect to $x_i$ is:\n",
        "\n",
        "$$\n",
        "\\frac{\\partial y}{\\partial x_i} = \\lim_{h \\to 0} \\frac{f(x_1, \\ldots, x_i + h, \\ldots, x_n) - f(x_1, \\ldots, x_i, \\ldots, x_n)}{h}\n",
        "$$\n",
        "\n",
        "**Key Properties:**\n",
        "- Treat all variables except $x_i$ as constants\n",
        "- Measures sensitivity to change in one coordinate direction\n",
        "\n",
        "#### Common Notations:\n",
        "All these represent the same partial derivative:\n",
        "$$\n",
        "\\frac{\\partial y}{\\partial x_i} = \\frac{\\partial f}{\\partial x_i} = \\partial_{x_i} f = f_{x_i} = D_{x_i} f\n",
        "$$\n",
        "\n",
        "---\n",
        "\n",
        "### Gradients\n",
        "For $f: \\mathbb{R}^n \\to \\mathbb{R}$, the gradient is the vector of all partial derivatives:\n",
        "\n",
        "$$\n",
        "\\nabla_{\\mathbf{x}} f(\\mathbf{x}) = \\left[\\frac{\\partial f}{\\partial x_1}, \\frac{\\partial f}{\\partial x_2}, \\ldots, \\frac{\\partial f}{\\partial x_n}\\right]^\\top\n",
        "$$\n",
        "\n",
        "**Interpretation**:\n",
        "- Points in direction of steepest ascent\n",
        "- Zero at local minima/maxima\n",
        "- Key for optimization in deep learning\n",
        "\n",
        "---\n",
        "\n",
        "### Useful Gradient Rules\n",
        "\n",
        "#### Linear Algebra Rules:\n",
        "1. For $\\mathbf{A} \\in \\mathbb{R}^{m \\times n}$:\n",
        "   $$\\nabla_{\\mathbf{x}} \\mathbf{Ax} = \\mathbf{A}^\\top$$\n",
        "   $$\\nabla_{\\mathbf{x}} \\mathbf{x}^\\top \\mathbf{A} = \\mathbf{A}$$\n",
        "\n",
        "2. For square $\\mathbf{A} \\in \\mathbb{R}^{n \\times n}$:\n",
        "   $$\\nabla_{\\mathbf{x}} \\mathbf{x}^\\top \\mathbf{Ax} = (\\mathbf{A} + \\mathbf{A}^\\top)\\mathbf{x}$$\n",
        "\n",
        "3. Special case:\n",
        "   $$\\nabla_{\\mathbf{x}} \\|\\mathbf{x}\\|^2 = 2\\mathbf{x}$$\n",
        "\n",
        "#### Frobenius Norm:\n",
        "For matrices:\n",
        "$$\\nabla_{\\mathbf{X}} \\|\\mathbf{X}\\|_F^2 = 2\\mathbf{X}$$\n",
        "\n",
        "---\n",
        "\n",
        "### Implementation Example\n",
        "```python\n",
        "import numpy as np\n",
        "\n",
        "# Gradient of quadratic form\n",
        "def quadratic_gradient(A, x):\n",
        "    return (A + A.T) @ x\n",
        "\n",
        "# Gradient of squared L2 norm\n",
        "def l2_gradient(x):\n",
        "    return 2 * x\n",
        "\n",
        "# Example usage\n",
        "A = np.array([[1, 2], [3, 4]])\n",
        "x = np.array([1, 2])\n",
        "print(quadratic_gradient(A, x))  # Output: [11 16]\n",
        "print(l2_gradient(x))            # Output: [2 4]"
      ],
      "metadata": {
        "id": "hquWOqqlcbJL"
      }
    },
    {
      "cell_type": "markdown",
      "source": [
        "Let’s assume that we are interested in differentiating the unction y = 2xTx with respect to\n",
        "the column vector x. To start, we assign x an initial value."
      ],
      "metadata": {
        "id": "2PzJdkDZgHSQ"
      }
    },
    {
      "cell_type": "code",
      "source": [
        "x = torch.arange(4.0)\n",
        "x"
      ],
      "metadata": {
        "colab": {
          "base_uri": "https://localhost:8080/"
        },
        "id": "kRDeYp-bepVt",
        "outputId": "36d23283-4069-4f2e-a8a7-7aadd8f66729"
      },
      "execution_count": 86,
      "outputs": [
        {
          "output_type": "execute_result",
          "data": {
            "text/plain": [
              "tensor([0., 1., 2., 3.])"
            ]
          },
          "metadata": {},
          "execution_count": 86
        }
      ]
    },
    {
      "cell_type": "code",
      "source": [
        "# Can also create x = torch.arange(4.0, requires_grad=True)\n",
        "x.requires_grad_(True)\n",
        "x.grad # The gradient is None by default"
      ],
      "metadata": {
        "id": "Y-k-SHDAf5ML"
      },
      "execution_count": 87,
      "outputs": []
    },
    {
      "cell_type": "code",
      "source": [
        "y = 2 * torch.dot(x, x)\n",
        "y"
      ],
      "metadata": {
        "colab": {
          "base_uri": "https://localhost:8080/"
        },
        "id": "VUW21m8WgVyv",
        "outputId": "dcdf1752-81af-47b0-c67c-a4b7271f8752"
      },
      "execution_count": 88,
      "outputs": [
        {
          "output_type": "execute_result",
          "data": {
            "text/plain": [
              "tensor(28., grad_fn=<MulBackward0>)"
            ]
          },
          "metadata": {},
          "execution_count": 88
        }
      ]
    },
    {
      "cell_type": "markdown",
      "source": [
        "We can now take the gradient of y with respect to x by calling its backward method. Next,\n",
        "we can access the gradient via x’s grad attribute"
      ],
      "metadata": {
        "id": "xQTlJEgogut9"
      }
    },
    {
      "cell_type": "code",
      "source": [
        "y.backward()\n",
        "x.grad"
      ],
      "metadata": {
        "colab": {
          "base_uri": "https://localhost:8080/"
        },
        "id": "VTuyoK28gyM6",
        "outputId": "e49d4dc0-6c21-4fcc-98df-5d7df828ce77"
      },
      "execution_count": 89,
      "outputs": [
        {
          "output_type": "execute_result",
          "data": {
            "text/plain": [
              "tensor([ 0.,  4.,  8., 12.])"
            ]
          },
          "metadata": {},
          "execution_count": 89
        }
      ]
    },
    {
      "cell_type": "code",
      "source": [],
      "metadata": {
        "id": "utGnKqQBg716"
      },
      "execution_count": null,
      "outputs": []
    }
  ]
}